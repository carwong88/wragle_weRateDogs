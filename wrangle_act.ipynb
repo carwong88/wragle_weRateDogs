{
 "cells": [
  {
   "cell_type": "markdown",
   "id": "905efe2b",
   "metadata": {},
   "source": [
    "# <center>Project: Wraggle and Analyze Data</center>\n",
    "<center>Udacity Data Analyst Nanodegree Project</center>\n",
    "\n",
    "## Introduction\n",
    "This project looks into Twitter's available @WeRateDogs tweet data and creates a trustworthy analysis and visualization report. This @WeRateDogs Twitter account rates people's dogs with humorous comments.\n",
    "\n",
    "## Goal\n",
    "The goal of this project is to walk-through the complete process of data analysis, from gathering data to reporting.\n",
    "\n",
    "    1: Gathering data\n",
    "    2: Assessing data\n",
    "    3: Cleaning data\n",
    "    4: Storing data\n",
    "    5: Analyzing, and visualizing data\n",
    "    6: Reporting\n",
    "    \n",
    "The focus of this project is more on data wrangling process which involves the first four steps: gathering, assessing, cleaning, restructuring and enriching the raw available data into a more usable format.\n",
    "\n",
    "## Data Sources\n",
    "@WeRateDogs tweet data are available from three difference sources and in different formats:\n",
    "\n",
    "* `twitter_archive_enhanced.csv`\n",
    "    * This Twitter archives file contains 5000+ of tweet archive of the Twitter user @WeRateDogs\n",
    "    * It is available to download in the project resources\n",
    "    * The data is in CSV format\n",
    "* `image_predictions.tsv` \n",
    "    * This image prediction file contains what breed of dog is present in each tweet according to a neural network\n",
    "    * It is hosted on Udacity's sever and need to be fetched programatically via Python requests package\n",
    "    * The data is in tab seperated format\n",
    "* `tweet-json.txt`\n",
    "    * This tweet json file contain a lot of tweet information including retreet counts and favorite counts\n",
    "    * This data is pulled directly from Twitter using Twitter API via Python Tweepy package and then is written in a text file\n",
    "    * It is a text file in json format\n",
    "\n",
    "## Required Packages"
   ]
  },
  {
   "cell_type": "code",
   "execution_count": 84,
   "id": "5045176f",
   "metadata": {},
   "outputs": [],
   "source": [
    "import os\n",
    "import json\n",
    "import tweepy\n",
    "import requests\n",
    "import numpy as np\n",
    "import pandas as pd\n",
    "import seaborn as sns\n",
    "import matplotlib.pyplot as plt\n",
    "\n",
    "from json import JSONDecodeError\n",
    "from matplotlib import rcParams\n",
    "\n",
    "%matplotlib inline"
   ]
  },
  {
   "cell_type": "markdown",
   "id": "58ed2730",
   "metadata": {},
   "source": [
    "## Gathering, Assessing, and Cleaning Data"
   ]
  },
  {
   "cell_type": "code",
   "execution_count": 85,
   "id": "59044fdb",
   "metadata": {},
   "outputs": [],
   "source": [
    "DATA_PATH = 'data'\n",
    "IMG_PATH = 'imgs'"
   ]
  },
  {
   "cell_type": "markdown",
   "id": "837011ff",
   "metadata": {},
   "source": [
    "### <span style=\"color:red\">File: twitter_archive_enhanced.csv</span>"
   ]
  },
  {
   "cell_type": "markdown",
   "id": "308797e1",
   "metadata": {},
   "source": [
    "`twitter-archive-enhanced.csv` is downloaded from Udacity's project resources. It's in CSV format. A quick initial assessment was done by Google Spreadsheet. The file is then read into Pandas dataframe for further assessment and cleaning.\n",
    "\n",
    "#### Data Quality Issues:\n",
    "1. Null value in columns:\n",
    "    * in_reply_to_status_id\n",
    "    * in_reply_to_user_id\n",
    "    * retweeted_status_id\n",
    "    * retweeted_status_user_id\n",
    "    * retweeted_status_timestamp\n",
    "2. None value in Columns:\n",
    "    * doggo\n",
    "    * floofer\n",
    "    * pupper\n",
    "    * puppo \n",
    "3. The 'None' value in `name` column should be ok in this case. I think It's normal for people not to share too much information.\n",
    "4. Inconsistent rating system \n",
    "\n",
    "#### Data Tidiness Issues:\n",
    "1. The last four columns can be combined into one (e.g. ages or types)"
   ]
  },
  {
   "cell_type": "code",
   "execution_count": 86,
   "id": "8b25f8e6",
   "metadata": {},
   "outputs": [],
   "source": [
    "def get_twitter_archive():\n",
    "    fname = 'twitter-archive-enhanced.csv'\n",
    "    df = pd.read_csv(os.path.join(DATA_PATH, fname), parse_dates=[3], index_col=[0])\n",
    "    return df"
   ]
  },
  {
   "cell_type": "code",
   "execution_count": 87,
   "id": "7b1926d9",
   "metadata": {},
   "outputs": [],
   "source": [
    "df = get_twitter_archive()"
   ]
  },
  {
   "cell_type": "markdown",
   "id": "44354605",
   "metadata": {},
   "source": [
    "#### Investigate The Rating System\n",
    "* rating_numerator range from 0 to 1776\n",
    "* rating_denominator range from 0 to 170"
   ]
  },
  {
   "cell_type": "code",
   "execution_count": 88,
   "id": "605af4f2",
   "metadata": {},
   "outputs": [
    {
     "data": {
      "image/png": "[encoded data removed]",
      "text/plain": [
       "<Figure size 1440x360 with 2 Axes>"
      ]
     },
     "metadata": {
      "needs_background": "light"
     },
     "output_type": "display_data"
    }
   ],
   "source": [
    "plt.figure(figsize = [20, 5])\n",
    "\n",
    "# Histogram on the left, bin edges on integers\n",
    "plt.subplot(1, 2, 1)\n",
    "bin_edges = np.arange(2, 12+1.1, 1) # note `+1.1`, see below\n",
    "plt.boxplot(df.rating_numerator);\n",
    "\n",
    "# Histogram on the right, bin edges between integers\n",
    "plt.subplot(1, 2, 2)\n",
    "plt.boxplot(df.rating_denominator);"
   ]
  },
  {
   "cell_type": "code",
   "execution_count": 89,
   "id": "4da28763",
   "metadata": {},
   "outputs": [
    {
     "data": {
      "text/html": [
       "<div>\n",
       "<style scoped>\n",
       "    .dataframe tbody tr th:only-of-type {\n",
       "        vertical-align: middle;\n",
       "    }\n",
       "\n",
       "    .dataframe tbody tr th {\n",
       "        vertical-align: top;\n",
       "    }\n",
       "\n",
       "    .dataframe thead th {\n",
       "        text-align: right;\n",
       "    }\n",
       "</style>\n",
       "<table border=\"1\" class=\"dataframe\">\n",
       "  <thead>\n",
       "    <tr style=\"text-align: right;\">\n",
       "      <th></th>\n",
       "      <th>rating_numerator</th>\n",
       "      <th>rating_denominator</th>\n",
       "    </tr>\n",
       "    <tr>\n",
       "      <th>tweet_id</th>\n",
       "      <th></th>\n",
       "      <th></th>\n",
       "    </tr>\n",
       "  </thead>\n",
       "  <tbody>\n",
       "    <tr>\n",
       "      <th>835152434251116546</th>\n",
       "      <td>0</td>\n",
       "      <td>10</td>\n",
       "    </tr>\n",
       "    <tr>\n",
       "      <th>749981277374128128</th>\n",
       "      <td>1776</td>\n",
       "      <td>10</td>\n",
       "    </tr>\n",
       "    <tr>\n",
       "      <th>746906459439529985</th>\n",
       "      <td>0</td>\n",
       "      <td>10</td>\n",
       "    </tr>\n",
       "  </tbody>\n",
       "</table>\n",
       "</div>"
      ],
      "text/plain": [
       "                    rating_numerator  rating_denominator\n",
       "tweet_id                                                \n",
       "835152434251116546                 0                  10\n",
       "749981277374128128              1776                  10\n",
       "746906459439529985                 0                  10"
      ]
     },
     "execution_count": 89,
     "metadata": {},
     "output_type": "execute_result"
    }
   ],
   "source": [
    "df.query('rating_numerator==0 or rating_numerator==1776')[['rating_numerator', 'rating_denominator']]"
   ]
  },
  {
   "cell_type": "code",
   "execution_count": 90,
   "id": "0a562d7d",
   "metadata": {},
   "outputs": [
    {
     "data": {
      "text/html": [
       "<div>\n",
       "<style scoped>\n",
       "    .dataframe tbody tr th:only-of-type {\n",
       "        vertical-align: middle;\n",
       "    }\n",
       "\n",
       "    .dataframe tbody tr th {\n",
       "        vertical-align: top;\n",
       "    }\n",
       "\n",
       "    .dataframe thead th {\n",
       "        text-align: right;\n",
       "    }\n",
       "</style>\n",
       "<table border=\"1\" class=\"dataframe\">\n",
       "  <thead>\n",
       "    <tr style=\"text-align: right;\">\n",
       "      <th></th>\n",
       "      <th>rating_numerator</th>\n",
       "      <th>rating_denominator</th>\n",
       "    </tr>\n",
       "    <tr>\n",
       "      <th>tweet_id</th>\n",
       "      <th></th>\n",
       "      <th></th>\n",
       "    </tr>\n",
       "  </thead>\n",
       "  <tbody>\n",
       "    <tr>\n",
       "      <th>835246439529840640</th>\n",
       "      <td>960</td>\n",
       "      <td>0</td>\n",
       "    </tr>\n",
       "    <tr>\n",
       "      <th>731156023742988288</th>\n",
       "      <td>204</td>\n",
       "      <td>170</td>\n",
       "    </tr>\n",
       "  </tbody>\n",
       "</table>\n",
       "</div>"
      ],
      "text/plain": [
       "                    rating_numerator  rating_denominator\n",
       "tweet_id                                                \n",
       "835246439529840640               960                   0\n",
       "731156023742988288               204                 170"
      ]
     },
     "execution_count": 90,
     "metadata": {},
     "output_type": "execute_result"
    }
   ],
   "source": [
    "df.query('rating_denominator==0 or rating_denominator==170')[['rating_numerator', 'rating_denominator']]"
   ]
  },
  {
   "cell_type": "code",
   "execution_count": 91,
   "id": "2a33c25b",
   "metadata": {},
   "outputs": [
    {
     "data": {
      "text/html": [
       "<div>\n",
       "<style scoped>\n",
       "    .dataframe tbody tr th:only-of-type {\n",
       "        vertical-align: middle;\n",
       "    }\n",
       "\n",
       "    .dataframe tbody tr th {\n",
       "        vertical-align: top;\n",
       "    }\n",
       "\n",
       "    .dataframe thead th {\n",
       "        text-align: right;\n",
       "    }\n",
       "</style>\n",
       "<table border=\"1\" class=\"dataframe\">\n",
       "  <thead>\n",
       "    <tr style=\"text-align: right;\">\n",
       "      <th></th>\n",
       "      <th>rating_numerator</th>\n",
       "      <th>rating_denominator</th>\n",
       "    </tr>\n",
       "    <tr>\n",
       "      <th>tweet_id</th>\n",
       "      <th></th>\n",
       "      <th></th>\n",
       "    </tr>\n",
       "  </thead>\n",
       "  <tbody>\n",
       "    <tr>\n",
       "      <th>855862651834028034</th>\n",
       "      <td>420</td>\n",
       "      <td>10</td>\n",
       "    </tr>\n",
       "    <tr>\n",
       "      <th>855860136149123072</th>\n",
       "      <td>666</td>\n",
       "      <td>10</td>\n",
       "    </tr>\n",
       "    <tr>\n",
       "      <th>835246439529840640</th>\n",
       "      <td>960</td>\n",
       "      <td>0</td>\n",
       "    </tr>\n",
       "    <tr>\n",
       "      <th>810984652412424192</th>\n",
       "      <td>24</td>\n",
       "      <td>7</td>\n",
       "    </tr>\n",
       "    <tr>\n",
       "      <th>749981277374128128</th>\n",
       "      <td>1776</td>\n",
       "      <td>10</td>\n",
       "    </tr>\n",
       "    <tr>\n",
       "      <th>731156023742988288</th>\n",
       "      <td>204</td>\n",
       "      <td>170</td>\n",
       "    </tr>\n",
       "    <tr>\n",
       "      <th>670842764863651840</th>\n",
       "      <td>420</td>\n",
       "      <td>10</td>\n",
       "    </tr>\n",
       "    <tr>\n",
       "      <th>666287406224695296</th>\n",
       "      <td>1</td>\n",
       "      <td>2</td>\n",
       "    </tr>\n",
       "  </tbody>\n",
       "</table>\n",
       "</div>"
      ],
      "text/plain": [
       "                    rating_numerator  rating_denominator\n",
       "tweet_id                                                \n",
       "855862651834028034               420                  10\n",
       "855860136149123072               666                  10\n",
       "835246439529840640               960                   0\n",
       "810984652412424192                24                   7\n",
       "749981277374128128              1776                  10\n",
       "731156023742988288               204                 170\n",
       "670842764863651840               420                  10\n",
       "666287406224695296                 1                   2"
      ]
     },
     "execution_count": 91,
     "metadata": {},
     "output_type": "execute_result"
    }
   ],
   "source": [
    "df.query('rating_denominator<10 or rating_numerator>200')[['rating_numerator', 'rating_denominator']]"
   ]
  },
  {
   "cell_type": "code",
   "execution_count": 92,
   "id": "7c2a6f7e",
   "metadata": {},
   "outputs": [],
   "source": [
    "def clean_twitter_archive():\n",
    "    \"\"\" Cleaning data quality issues \"\"\"\n",
    "    \n",
    "    df = get_twitter_archive()\n",
    "    \n",
    "    # Extract only relavant columns\n",
    "    df = df[['rating_numerator', 'rating_denominator', 'name']]\n",
    "    \n",
    "    # Check for any Nan value in each column\n",
    "    for label in df.columns.tolist():\n",
    "        assert df[df[label].isnull() == True].shape != 0\n",
    "        \n",
    "    # Replace None with no-name under column 'name'\n",
    "    df['name'] = df['name'].str.replace('None', 'no-name')\n",
    "    \n",
    "    # Remove outliners in rating_denominator and rating_numerator\n",
    "    outliners = df.query('rating_denominator<10 or rating_numerator>200')\n",
    "    df = df.drop(outliners.index)\n",
    "    \n",
    "    assert df.query('rating_denominator<10 or rating_numerator>200').shape[0] == 0\n",
    "        \n",
    "    # Add a column for rating\n",
    "    df['rating'] = df.rating_numerator / df.rating_denominator\n",
    "    \n",
    "    # Remove rows with zero rating\n",
    "    zero_ratings = df.query('rating==0')\n",
    "    df = df.drop(zero_ratings.index)\n",
    "    \n",
    "    assert df.query('rating==0').shape[0] == 0\n",
    "    \n",
    "    return df"
   ]
  },
  {
   "cell_type": "code",
   "execution_count": 93,
   "id": "3d148fb5",
   "metadata": {},
   "outputs": [
    {
     "data": {
      "text/html": [
       "<div>\n",
       "<style scoped>\n",
       "    .dataframe tbody tr th:only-of-type {\n",
       "        vertical-align: middle;\n",
       "    }\n",
       "\n",
       "    .dataframe tbody tr th {\n",
       "        vertical-align: top;\n",
       "    }\n",
       "\n",
       "    .dataframe thead th {\n",
       "        text-align: right;\n",
       "    }\n",
       "</style>\n",
       "<table border=\"1\" class=\"dataframe\">\n",
       "  <thead>\n",
       "    <tr style=\"text-align: right;\">\n",
       "      <th></th>\n",
       "      <th>rating_numerator</th>\n",
       "      <th>rating_denominator</th>\n",
       "      <th>name</th>\n",
       "      <th>rating</th>\n",
       "    </tr>\n",
       "    <tr>\n",
       "      <th>tweet_id</th>\n",
       "      <th></th>\n",
       "      <th></th>\n",
       "      <th></th>\n",
       "      <th></th>\n",
       "    </tr>\n",
       "  </thead>\n",
       "  <tbody>\n",
       "    <tr>\n",
       "      <th>667435689202614272</th>\n",
       "      <td>12</td>\n",
       "      <td>10</td>\n",
       "      <td>no-name</td>\n",
       "      <td>1.2</td>\n",
       "    </tr>\n",
       "    <tr>\n",
       "      <th>813112105746448384</th>\n",
       "      <td>12</td>\n",
       "      <td>10</td>\n",
       "      <td>Toby</td>\n",
       "      <td>1.2</td>\n",
       "    </tr>\n",
       "  </tbody>\n",
       "</table>\n",
       "</div>"
      ],
      "text/plain": [
       "                    rating_numerator  rating_denominator     name  rating\n",
       "tweet_id                                                                 \n",
       "667435689202614272                12                  10  no-name     1.2\n",
       "813112105746448384                12                  10     Toby     1.2"
      ]
     },
     "execution_count": 93,
     "metadata": {},
     "output_type": "execute_result"
    }
   ],
   "source": [
    "df_archive = clean_twitter_archive()\n",
    "df_archive.sample(2)"
   ]
  },
  {
   "cell_type": "code",
   "execution_count": 94,
   "id": "0eb9619a",
   "metadata": {},
   "outputs": [
    {
     "data": {
      "image/png": "[encoded data removed]",
      "text/plain": [
       "<Figure size 1440x360 with 2 Axes>"
      ]
     },
     "metadata": {
      "needs_background": "light"
     },
     "output_type": "display_data"
    }
   ],
   "source": [
    "plt.figure(figsize = [20, 5])\n",
    "\n",
    "# Histogram on the left, bin edges on integers\n",
    "plt.subplot(1, 2, 1)\n",
    "bin_edges = np.arange(2, 12+1.1, 1) # note `+1.1`, see below\n",
    "plt.boxplot(df_archive.rating_numerator);\n",
    "\n",
    "# Histogram on the right, bin edges between integers\n",
    "plt.subplot(1, 2, 2)\n",
    "plt.boxplot(df_archive.rating_denominator);"
   ]
  },
  {
   "cell_type": "markdown",
   "id": "60e4a999",
   "metadata": {},
   "source": [
    "### <span style=\"color:red\">File: image_predictions.tsv</span>"
   ]
  },
  {
   "cell_type": "markdown",
   "id": "5cc5d022",
   "metadata": {},
   "source": [
    "`image_predictions.tsv` is fetched from Udacity server via Python Requests package. It's in TSV format. A quick initial assessment was done by Google Spreadsheet. The file is then read into Pandas dataframe for further assessment and cleaning.\n",
    "\n",
    "#### Data Quality Issues:\n",
    "* Column names are misleading (e.g. p1_dog has True and False value)\n",
    "* Non-dog-breed names in the `p1` column\n",
    "    * 'shopping_cart', 'hen', 'desktop_computer', 'guinea_pig', 'llama', 'seat_belt', etc\n",
    "* Non-dog-breed names in the `p2` column\n",
    "    * 'punching_bag', 'comic_book', 'sunglass', 'can_opener', 'cup', 'rule', 'soccer_ball', 'bucket', etc.\n",
    "* Non-dog-breed names in the `p3`, column\n",
    "    * 'paintbrush', 'maze', 'hatchet', 'chain', 'jigsaw_puzzle', 'switch', plastic_bag', 'swimming_trunks', 'prairie_chicken', 'red_wolf', etc.\n",
    "    \n",
    "#### Data Tidiness Issues:\n",
    "* Data in this file should be combine with the 'twitter-archive-enhanced.csv' since they are additional information to the same tweets\n",
    "    \n",
    "**To clean the non-dog-breed names in 'p1', 'p2', 'p3' names, a complete list of dog breeds data need to be gathered from somewhere in order to validate whether the names are a valid dog-breed. However, for my analysis to find the top 5 most retweet and 5 most favorite breed/dog on Twitter @WeRateDogs. This step is not be necessarity for this analysis.**"
   ]
  },
  {
   "cell_type": "code",
   "execution_count": 95,
   "id": "6cedebe4",
   "metadata": {},
   "outputs": [],
   "source": [
    "def get_image_predictions():\n",
    "    \"\"\"\n",
    "    Get image_preditions.tsv from Udacity's server and save to local drive.\n",
    "    \"\"\"\n",
    "    url = 'https://d17h27t6h515a5.cloudfront.net/topher/2017/August/599fd2ad_image-predictions/image-predictions.tsv'\n",
    "    fname = 'image_predictions.tsv'\n",
    "    \n",
    "    if not os.path.exists(os.path.join(DATA_PATH, fname)):\n",
    "        response = requests.get(url)\n",
    "        with open(fname, mode='wb') as file:\n",
    "             file.write(response.content)\n",
    "    \n",
    "    # Verified that there is not duplicate tweet_id before setting tweet_id column as index\n",
    "    df = pd.read_csv(fname, sep='\\t', index_col=0)\n",
    "    return df"
   ]
  },
  {
   "cell_type": "code",
   "execution_count": 96,
   "id": "ba512159",
   "metadata": {},
   "outputs": [],
   "source": [
    "def clean_image_predictions():\n",
    "    \"\"\"\n",
    "    Clean up some data quality issues and extract only true prediction data\n",
    "    \"\"\"\n",
    "    df = get_image_predictions()\n",
    "    \n",
    "    # Observed and verified the confidence in 'p1_conf' is always greater then p2_conf or p3_conf\n",
    "    assert df[df['p2_conf'] < df['p3_conf']].shape[0] == 0\n",
    "    \n",
    "    # Rename column names to be more meaningfull\n",
    "    df.rename(columns={'p1_dog': 'p1_outcome', 'p2_dog': 'p2_outcome', 'p3_dog': 'p3_outcome'}, inplace=True)\n",
    "    df.rename(columns={'p1': 'p1_dog', 'p2': 'p2_dog', 'p3': 'p3_dog'}, inplace=True)\n",
    "    \n",
    "    # Select only rows with true predictions\n",
    "    false_outcomes = df.query('p1_outcome==False and p2_outcome==False and p3_outcome==False')\n",
    "    df.drop(false_outcomes.index, inplace=True)\n",
    "    \n",
    "    # Extract rows with true predictions and with the highest confident\n",
    "    df_preds_1 = df.query('p1_outcome==True')\n",
    "    df_preds_2 = df.query('p1_outcome==False and p2_outcome==True')\n",
    "    df_preds_3 = df.query('p1_outcome==False and p2_outcome==False and p2_outcome==True')  # Zero row for this query\n",
    "    \n",
    "    df_preds_1 = df_preds_1[['p1_dog', 'p1_conf', 'p1_outcome']]\n",
    "    df_preds_1.columns = ['breed', 'conf', 'outcome']\n",
    "    \n",
    "    df_preds_2 = df_preds_2[['p2_dog', 'p2_conf', 'p2_outcome']]\n",
    "    df_preds_2.columns = ['breed', 'conf', 'outcome']\n",
    "    \n",
    "    df_preds = pd.concat([df_preds_1, df_preds_2])\n",
    "    \n",
    "    return df_preds"
   ]
  },
  {
   "cell_type": "code",
   "execution_count": 97,
   "id": "5db8544c",
   "metadata": {
    "scrolled": true
   },
   "outputs": [
    {
     "data": {
      "text/html": [
       "<div>\n",
       "<style scoped>\n",
       "    .dataframe tbody tr th:only-of-type {\n",
       "        vertical-align: middle;\n",
       "    }\n",
       "\n",
       "    .dataframe tbody tr th {\n",
       "        vertical-align: top;\n",
       "    }\n",
       "\n",
       "    .dataframe thead th {\n",
       "        text-align: right;\n",
       "    }\n",
       "</style>\n",
       "<table border=\"1\" class=\"dataframe\">\n",
       "  <thead>\n",
       "    <tr style=\"text-align: right;\">\n",
       "      <th></th>\n",
       "      <th>breed</th>\n",
       "      <th>conf</th>\n",
       "      <th>outcome</th>\n",
       "    </tr>\n",
       "    <tr>\n",
       "      <th>tweet_id</th>\n",
       "      <th></th>\n",
       "      <th></th>\n",
       "      <th></th>\n",
       "    </tr>\n",
       "  </thead>\n",
       "  <tbody>\n",
       "    <tr>\n",
       "      <th>873697596434513921</th>\n",
       "      <td>French_bulldog</td>\n",
       "      <td>0.099984</td>\n",
       "      <td>True</td>\n",
       "    </tr>\n",
       "    <tr>\n",
       "      <th>719551379208073216</th>\n",
       "      <td>malamute</td>\n",
       "      <td>0.873233</td>\n",
       "      <td>True</td>\n",
       "    </tr>\n",
       "  </tbody>\n",
       "</table>\n",
       "</div>"
      ],
      "text/plain": [
       "                             breed      conf  outcome\n",
       "tweet_id                                             \n",
       "873697596434513921  French_bulldog  0.099984     True\n",
       "719551379208073216        malamute  0.873233     True"
      ]
     },
     "execution_count": 97,
     "metadata": {},
     "output_type": "execute_result"
    }
   ],
   "source": [
    "df_images = clean_image_predictions()\n",
    "df_images.sample(2)"
   ]
  },
  {
   "cell_type": "markdown",
   "id": "c1cf105b",
   "metadata": {},
   "source": [
    "### <span style=\"color:red\">File: tweet_json.txt</span>"
   ]
  },
  {
   "cell_type": "markdown",
   "id": "38a9ee70",
   "metadata": {},
   "source": [
    "`tweet_json.txt` is a text file contains tweets information that directly pulled from Twitter using Python tweepy package. Each line is a json dictionary for each tweet. After all the tweet information is gathered and written into a text file, it is then read into a Pandas DataFrame line-by-line. After reviewing a couple rows of data, only three pieces of information (id, retweet_count, and favorite_count) are relevant to this analysis.\n",
    "\n",
    "#### Assessing:\n",
    "The assessing of this data is done using Google spreadsheet looking at the raw json format. There are a lot of information, but I don't need all of those information. Instead of creating a Pandas DataFrame with all the unnecessarity inforation and cleaning it after, I took the route to just extract the relavant information (the retweet and favorite counts). This would save time and space when processing the data.\n",
    "\n",
    "#### Data Quality Issues:\n",
    "* Due to the data is directly pulled from Twitter and I only need to pull two relavant data (retweet and favorite count), I have confident those are accurate. Not much cleaning is needed.\n",
    "\n",
    "#### Data Tidiness Issues:\n",
    "* The retweet counts and favorite counts should also be combine with the other data. They are just additional information of the tweets."
   ]
  },
  {
   "cell_type": "code",
   "execution_count": 98,
   "id": "cf771f46",
   "metadata": {},
   "outputs": [],
   "source": [
    "# Script to pull tweets from Twitter using tweepy package\n",
    "\n",
    "import os\n",
    "import time\n",
    "import json\n",
    "import tweepy\n",
    "import webbrowser\n",
    "\n",
    "import pandas as pd\n",
    "\n",
    "CONSUMER_KEY = os.environ.get('TWITTER_API_KEY')\n",
    "CONSUMER_SECRET = os.environ.get('TWITTER_SECRET')\n",
    "DATA_PATH = 'data'\n",
    "\n",
    "\n",
    "def authorize_access():\n",
    "  \"\"\" Return tweepy.api after authorize access with Twitter. \"\"\"\n",
    "  callback_uri = 'oob'\n",
    "  auth = tweepy.OAuthHandler(CONSUMER_KEY, CONSUMER_SECRET, callback_uri)\n",
    "  redirect_url = auth.get_authorization_url()\n",
    "  print(redirect_url)\n",
    "\n",
    "  auth_pin = input('What is the pin value? ')\n",
    "  access_token, access_token_secret = auth.get_access_token(auth_pin)\n",
    "  auth.set_access_token(access_token, access_token_secret)\n",
    "  api = tweepy.API(auth)\n",
    "  return api\n",
    "\n",
    "\n",
    "def write_to_files(contents, errors):\n",
    "  \"\"\" Write tweet information and errors into text files. \"\"\"\n",
    "  w_file = os.path.join(DATA_PATH, 'tweet-json.txt')\n",
    "  e_file = os.path.join(DATA_PATH, 'tweet-errors.txt')\n",
    "\n",
    "  if contents: \n",
    "    with open(w_file, encoding='utf-8', mode='w') as f:\n",
    "      print(contents)\n",
    "      f.write('\\n'.join(contents))\n",
    "\n",
    "  if errors:\n",
    "    with open(e_file, encoding='utf-8', mode='w') as f:\n",
    "      f.write('\\n'.join(errors))\n",
    "\n",
    "\n",
    "def get_tweet_ids():\n",
    "  \"\"\" Get tweet ids from twitter-archive-enhanced.csv file. \"\"\"\n",
    "  fname = 'twitter-archive-enhanced.csv'\n",
    "  f = os.path.join(DATA_PATH, fname)\n",
    "\n",
    "  if os.path.exists(f):\n",
    "    df = pd.read_csv(f)\n",
    "  else:\n",
    "    print(f'file ({f}) does not exist.')\n",
    "\n",
    "  return df.tweet_id.to_list()\n",
    "\n",
    "\n",
    "def in_three():\n",
    "  \"\"\" Divide all tweet ids into three parts. \"\"\"\n",
    "  parts = []\n",
    "  tweet_ids = get_tweet_ids()\n",
    "  in_three = len(tweet_ids)//3\n",
    "\n",
    "  parts.append(tweet_ids[0:in_three])\n",
    "  parts.append(tweet_ids[in_three:in_three*2])\n",
    "  parts.append(tweet_ids[in_three*2:])\n",
    "\n",
    "  return parts\n",
    "\n",
    "\n",
    "def get_twitter_tweets():\n",
    "  \"\"\" Get tweet information from Twitter in three intervals due to Twitter's rate limit. \"\"\"\n",
    "  contents = []\n",
    "  errors = []\n",
    "\n",
    "  api = authorize_access()\n",
    "  three_parts = in_three()\n",
    "\n",
    "  for tweet_ids in three_parts:\n",
    "    for tweet_id in tweet_ids:\n",
    "      try:\n",
    "        tweet = api.get_status(tweet_id, tweet_mode='extended')\n",
    "      except tweepy.errors.NotFound as e:\n",
    "        errors.append(f'NOT FOUND: {e}')\n",
    "      except tweepy.errors.Forbidden as e:\n",
    "        errors.append(f'FORBIDDEN: {tweet_id}')\n",
    "      except:\n",
    "        errors.append(f'ERROR: {tweet_id}')\n",
    "\n",
    "      info = tweet.__dict__.get('_json')\n",
    "      contents.append(json.dumps(info))\n",
    "      print(tweet.id, tweet.retweet_count, tweet.favorite_count)\n",
    "\n",
    "    time.sleep(915)\n",
    "\n",
    "  write_to_files(contents, errors)"
   ]
  },
  {
   "cell_type": "code",
   "execution_count": 99,
   "id": "0a982dc1",
   "metadata": {},
   "outputs": [],
   "source": [
    "def parse_tweet_json_to_df():\n",
    "    \"\"\" Retrieve tweet id, retweet_count, and favorite_count from `tweet_json.txt` file. \"\"\"\n",
    "    r_fname = 'tweet-json.txt'\n",
    "    w_fname = 'tweet-json.csv'\n",
    "    \n",
    "    df = pd.DataFrame(columns=['tweet_id', 'retweet_cnt', 'favorite_cnt'])\n",
    "\n",
    "    # Check to see if the json file exists\n",
    "    if not os.path.exists(os.path.join(DATA_PATH, r_fname)):\n",
    "        print('File does not exist.')\n",
    "        return\n",
    "    \n",
    "    # Get only interested data\n",
    "    with open(os.path.join(DATA_PATH, r_fname), 'r') as f:\n",
    "        while True:\n",
    "            row = f.readline()\n",
    "            \n",
    "            if not row: break\n",
    "\n",
    "            try:\n",
    "                row_dict = json.loads(row)\n",
    "            except JSONDecodeError as e:\n",
    "                print(f'<Decoding Error> : {e}')\n",
    "                            \n",
    "            id_ = row_dict.get('id')\n",
    "            retweet_cnt = row_dict.get('retweet_count')\n",
    "            favorite_cnt = row_dict.get('favorite_count')\n",
    "            \n",
    "            df.loc[len(df)] = [id_, retweet_cnt, favorite_cnt]    \n",
    "            \n",
    "    df.to_csv(os.path.join(DATA_PATH, w_fname))\n",
    "    return df"
   ]
  },
  {
   "cell_type": "code",
   "execution_count": 100,
   "id": "68652806",
   "metadata": {},
   "outputs": [
    {
     "data": {
      "text/plain": [
       "((2356, 3),\n",
       "              tweet_id  retweet_cnt  favorite_cnt\n",
       " 0  892420643555336193         6983         33732\n",
       " 1  892177421306343426         5285         29267\n",
       " 2  891815181378084864         3469         21998)"
      ]
     },
     "execution_count": 100,
     "metadata": {},
     "output_type": "execute_result"
    }
   ],
   "source": [
    "df_retweet = parse_tweet_json_to_df()\n",
    "df_retweet.shape, df_retweet.head(3)"
   ]
  },
  {
   "cell_type": "markdown",
   "id": "be03ab19",
   "metadata": {},
   "source": [
    "## Merge Three Cleaned Dataset Together"
   ]
  },
  {
   "cell_type": "code",
   "execution_count": 101,
   "id": "e61cc070",
   "metadata": {},
   "outputs": [],
   "source": [
    "MERGED_FILE = 'tweet_merged.csv'\n",
    "\n",
    "def merge_three_datasets(df_archive, df_images, df_retweet):\n",
    "    df_merged = df_archive.merge(df_images, on='tweet_id')\n",
    "    df_merged = df_merged.merge(df_retweet, on='tweet_id')\n",
    "    \n",
    "    # Check for any NaN value in the merged dataset\n",
    "    for col in df_merged.columns:\n",
    "        assert df_merged[col].shape[0] == df_merged.shape[0]\n",
    "        \n",
    "    # Set tweet_id as index\n",
    "    df_merged = df_merged.set_index('tweet_id')\n",
    "        \n",
    "    # write to csv\n",
    "    df_merged.to_csv(os.path.join(DATA_PATH, MERGED_FILE))\n",
    "    \n",
    "    return df_merged"
   ]
  },
  {
   "cell_type": "code",
   "execution_count": 102,
   "id": "5535b0f1",
   "metadata": {},
   "outputs": [
    {
     "data": {
      "text/html": [
       "<div>\n",
       "<style scoped>\n",
       "    .dataframe tbody tr th:only-of-type {\n",
       "        vertical-align: middle;\n",
       "    }\n",
       "\n",
       "    .dataframe tbody tr th {\n",
       "        vertical-align: top;\n",
       "    }\n",
       "\n",
       "    .dataframe thead th {\n",
       "        text-align: right;\n",
       "    }\n",
       "</style>\n",
       "<table border=\"1\" class=\"dataframe\">\n",
       "  <thead>\n",
       "    <tr style=\"text-align: right;\">\n",
       "      <th></th>\n",
       "      <th>rating_numerator</th>\n",
       "      <th>rating_denominator</th>\n",
       "      <th>name</th>\n",
       "      <th>rating</th>\n",
       "      <th>breed</th>\n",
       "      <th>conf</th>\n",
       "      <th>outcome</th>\n",
       "      <th>retweet_cnt</th>\n",
       "      <th>favorite_cnt</th>\n",
       "    </tr>\n",
       "    <tr>\n",
       "      <th>tweet_id</th>\n",
       "      <th></th>\n",
       "      <th></th>\n",
       "      <th></th>\n",
       "      <th></th>\n",
       "      <th></th>\n",
       "      <th></th>\n",
       "      <th></th>\n",
       "      <th></th>\n",
       "      <th></th>\n",
       "    </tr>\n",
       "  </thead>\n",
       "  <tbody>\n",
       "    <tr>\n",
       "      <th>709566166965075968</th>\n",
       "      <td>12</td>\n",
       "      <td>10</td>\n",
       "      <td>Olaf</td>\n",
       "      <td>1.2</td>\n",
       "      <td>chow</td>\n",
       "      <td>0.999837</td>\n",
       "      <td>True</td>\n",
       "      <td>1072</td>\n",
       "      <td>3250</td>\n",
       "    </tr>\n",
       "    <tr>\n",
       "      <th>832369877331693569</th>\n",
       "      <td>11</td>\n",
       "      <td>10</td>\n",
       "      <td>Charlie</td>\n",
       "      <td>1.1</td>\n",
       "      <td>kelpie</td>\n",
       "      <td>0.504690</td>\n",
       "      <td>True</td>\n",
       "      <td>2919</td>\n",
       "      <td>16070</td>\n",
       "    </tr>\n",
       "    <tr>\n",
       "      <th>805958939288408065</th>\n",
       "      <td>10</td>\n",
       "      <td>10</td>\n",
       "      <td>Penny</td>\n",
       "      <td>1.0</td>\n",
       "      <td>Irish_setter</td>\n",
       "      <td>0.574557</td>\n",
       "      <td>True</td>\n",
       "      <td>5004</td>\n",
       "      <td>0</td>\n",
       "    </tr>\n",
       "  </tbody>\n",
       "</table>\n",
       "</div>"
      ],
      "text/plain": [
       "                    rating_numerator  rating_denominator     name  rating  \\\n",
       "tweet_id                                                                    \n",
       "709566166965075968                12                  10     Olaf     1.2   \n",
       "832369877331693569                11                  10  Charlie     1.1   \n",
       "805958939288408065                10                  10    Penny     1.0   \n",
       "\n",
       "                           breed      conf  outcome  retweet_cnt  favorite_cnt  \n",
       "tweet_id                                                                        \n",
       "709566166965075968          chow  0.999837     True         1072          3250  \n",
       "832369877331693569        kelpie  0.504690     True         2919         16070  \n",
       "805958939288408065  Irish_setter  0.574557     True         5004             0  "
      ]
     },
     "execution_count": 102,
     "metadata": {},
     "output_type": "execute_result"
    }
   ],
   "source": [
    "df_merged = merge_three_datasets(df_archive, df_images, df_retweet)\n",
    "df_merged.sample(3)"
   ]
  },
  {
   "cell_type": "markdown",
   "id": "a46f462b",
   "metadata": {},
   "source": [
    "## Analyzing and Visualization"
   ]
  },
  {
   "cell_type": "markdown",
   "id": "7c34127c",
   "metadata": {},
   "source": [
    "### Q1: What are The Top Five Most Tweeted Breeds?"
   ]
  },
  {
   "cell_type": "code",
   "execution_count": 106,
   "id": "8cc605a2",
   "metadata": {},
   "outputs": [],
   "source": [
    "TOP_NUMS = 5\n",
    "BREEDS = 'Breeds'\n",
    "BASE_COLOR = sns.color_palette()[0]\n",
    "FIG_SIZE = (12,5)\n",
    "\n",
    "MERGED_FILE = os.path.join(DATA_PATH, 'tweet_merged.csv')"
   ]
  },
  {
   "cell_type": "code",
   "execution_count": 109,
   "id": "b7216f88",
   "metadata": {},
   "outputs": [],
   "source": [
    "def top_tweeted_breed():\n",
    "    df = pd.read_csv(MERGED_FILE)\n",
    "    top_breed = df['breed'].value_counts(sort=True)[:TOP_NUMS]\n",
    "    \n",
    "    base_color = BASE_COLOR\n",
    "    order = top_breed.index\n",
    "    ax = sns.countplot(data=df, y='breed', color=base_color, order=order);\n",
    "\n",
    "    ax.set(xlabel='Tweet Counts',\n",
    "           ylabel=BREEDS,\n",
    "           title=f'Top {TOP_NUMS} Most Tweeted Breeds');\n",
    "\n",
    "    n_rows = df.shape[0]\n",
    "    # Calculate and label percentage\n",
    "    for i in range(top_breed.shape[0]):\n",
    "        count = top_breed[i]\n",
    "        pct = f'{100*count/n_rows:0.1f}%'\n",
    "        plt.text(count+1, i, pct, va='center')\n",
    "\n",
    "    rcParams['figure.figsize'] = FIG_SIZE\n",
    "    \n",
    "    plt.savefig(os.path.join(IMG_PATH, 'top_tweeted_breed'))"
   ]
  },
  {
   "cell_type": "code",
   "execution_count": 110,
   "id": "734b1ed7",
   "metadata": {},
   "outputs": [
    {
     "data": {
      "image/png": "[encoded data removed]",
      "text/plain": [
       "<Figure size 432x288 with 1 Axes>"
      ]
     },
     "metadata": {
      "needs_background": "light"
     },
     "output_type": "display_data"
    }
   ],
   "source": [
    "top_tweeted_breed()"
   ]
  },
  {
   "cell_type": "markdown",
   "id": "d6cec839",
   "metadata": {},
   "source": [
    "### Q2: What are the Top Five Most Retweeted Dogs?"
   ]
  },
  {
   "cell_type": "code",
   "execution_count": 111,
   "id": "7fffd196",
   "metadata": {},
   "outputs": [],
   "source": [
    "def top_retweeted_dogs():\n",
    "    df = pd.read_csv(MERGED_FILE)\n",
    "    top_retweets = df.sort_values(by='retweet_cnt', ascending=False)[:TOP_NUMS]\n",
    "    \n",
    "    color = BASE_COLOR\n",
    "    ax = sns.barplot(data=top_retweets, x='retweet_cnt', y='breed', color=color)\n",
    "    ax.set(xlabel='Retweet Counts',\n",
    "           ylabel=BREEDS,\n",
    "           title=f'Top {TOP_NUMS} Re-tweeted Dogs')\n",
    "\n",
    "    for i,v in enumerate(top_retweets.index.tolist()):\n",
    "        count = top_retweets.iloc[i:].retweet_cnt.values[0]\n",
    "        name = top_retweets.iloc[i:].name.values[0]\n",
    "        txt = f'{name} / {count}'\n",
    "        plt.text(count+500, i, txt)\n",
    "\n",
    "    rcParams['figure.figsize'] = FIG_SIZE\n",
    "    \n",
    "    plt.savefig(os.path.join(IMG_PATH, 'top_retweeted_dogs'))"
   ]
  },
  {
   "cell_type": "code",
   "execution_count": 112,
   "id": "0058074b",
   "metadata": {},
   "outputs": [
    {
     "data": {
      "image/png": "[encoded data removed]",
      "text/plain": [
       "<Figure size 864x360 with 1 Axes>"
      ]
     },
     "metadata": {
      "needs_background": "light"
     },
     "output_type": "display_data"
    }
   ],
   "source": [
    "top_retweeted_dogs()"
   ]
  },
  {
   "cell_type": "markdown",
   "id": "a351c437",
   "metadata": {},
   "source": [
    "### Q3: What are the Top Five Most Favorite Dogs?"
   ]
  },
  {
   "cell_type": "code",
   "execution_count": 113,
   "id": "8ba5c455",
   "metadata": {},
   "outputs": [],
   "source": [
    "def top_favorite_dogs():\n",
    "    df = pd.read_csv(MERGED_FILE)\n",
    "    top_favorites = df.sort_values(by='favorite_cnt', ascending=False)[:TOP_NUMS]\n",
    "    \n",
    "    color = BASE_COLOR\n",
    "    ax = sns.barplot(data=top_favorites, x='favorite_cnt', y='breed', color=color)\n",
    "    ax.set(xlabel='Favorite Counts',\n",
    "           ylabel=BREEDS,\n",
    "           title=f'Top {TOP_NUMS} Most Favorite Dogs')\n",
    "\n",
    "    for i,v in enumerate(top_favorites.index.tolist()):\n",
    "        count = top_favorites.iloc[i:].favorite_cnt.values[0]\n",
    "        name = top_favorites.iloc[i:].name.values[0]\n",
    "        txt = f'{name} / {count})'\n",
    "        plt.text(count+500, i, txt)\n",
    "\n",
    "    rcParams['figure.figsize'] = FIG_SIZE\n",
    "    \n",
    "    plt.savefig(os.path.join(IMG_PATH, 'top_favorite_dogs'))"
   ]
  },
  {
   "cell_type": "code",
   "execution_count": 114,
   "id": "c00746f0",
   "metadata": {},
   "outputs": [
    {
     "data": {
      "image/png": "[encoded data removed]",
      "text/plain": [
       "<Figure size 864x360 with 1 Axes>"
      ]
     },
     "metadata": {
      "needs_background": "light"
     },
     "output_type": "display_data"
    }
   ],
   "source": [
    "top_favorite_dogs()"
   ]
  },
  {
   "cell_type": "markdown",
   "id": "70ac351c",
   "metadata": {},
   "source": [
    "### Q4: How is the rating correlate to retweet count and favorite count?"
   ]
  },
  {
   "cell_type": "code",
   "execution_count": 115,
   "id": "41844c5f",
   "metadata": {},
   "outputs": [],
   "source": [
    "def rating_retweet_favorite():\n",
    "    df = pd.read_csv(MERGED_FILE)\n",
    "    \n",
    "    # Remove few outliner where rating is greater than 2\n",
    "    outliners = df.query('rating > 2')\n",
    "    df = df.drop(outliners.index)\n",
    "    \n",
    "    fig, (ax1, ax2) = plt.subplots(nrows=1, ncols=2, figsize=FIG_SIZE)\n",
    "    ax1.scatter(df.rating, df.retweet_cnt);\n",
    "    ax1.set(title=\"Rating vs Retweet Counts\", \n",
    "            xlabel='Rating',\n",
    "            ylabel='Retweet Counts')\n",
    "\n",
    "    ax2.scatter(df.rating, df.favorite_cnt);\n",
    "    ax2.set(title=\"Rating vs Favorite Counts\", \n",
    "            xlabel='Rating',\n",
    "            ylabel='Favorite Counts')\n",
    "    \n",
    "    plt.savefig(os.path.join(IMG_PATH, 'rating_retweet_favorite'))"
   ]
  },
  {
   "cell_type": "code",
   "execution_count": 116,
   "id": "03daa425",
   "metadata": {},
   "outputs": [
    {
     "data": {
      "image/png": "[encoded data removed]",
      "text/plain": [
       "<Figure size 864x360 with 2 Axes>"
      ]
     },
     "metadata": {
      "needs_background": "light"
     },
     "output_type": "display_data"
    }
   ],
   "source": [
    "rating_retweet_favorite()"
   ]
  },
  {
   "cell_type": "markdown",
   "id": "aa88b79c",
   "metadata": {},
   "source": [
    "### Q5: How is the retweet counts correlate to favorite counts?"
   ]
  },
  {
   "cell_type": "code",
   "execution_count": 117,
   "id": "842d1238",
   "metadata": {},
   "outputs": [],
   "source": [
    "def retweet_vs_favorite():\n",
    "    df = pd.read_csv(MERGED_FILE)\n",
    "    \n",
    "    fig, ax1 = plt.subplots(figsize=FIG_SIZE)\n",
    "    ax1.scatter(df.retweet_cnt, df.favorite_cnt);\n",
    "    ax1.set(title=\"Retweet Counts vs Favorite Counts\", \n",
    "            xlabel='Retweet Counts',\n",
    "            ylabel='Favorite Counts')\n",
    "    \n",
    "    plt.savefig(os.path.join(IMG_PATH, 'retweet_vs_favorite'))"
   ]
  },
  {
   "cell_type": "code",
   "execution_count": 118,
   "id": "b29fdea6",
   "metadata": {},
   "outputs": [
    {
     "data": {
      "image/png": "[encoded data removed]",
      "text/plain": [
       "<Figure size 864x360 with 1 Axes>"
      ]
     },
     "metadata": {
      "needs_background": "light"
     },
     "output_type": "display_data"
    }
   ],
   "source": [
    "retweet_vs_favorite()"
   ]
  },
  {
   "cell_type": "code",
   "execution_count": 119,
   "id": "2eae4c5c",
   "metadata": {},
   "outputs": [
    {
     "data": {
      "text/html": [
       "<div>\n",
       "<style scoped>\n",
       "    .dataframe tbody tr th:only-of-type {\n",
       "        vertical-align: middle;\n",
       "    }\n",
       "\n",
       "    .dataframe tbody tr th {\n",
       "        vertical-align: top;\n",
       "    }\n",
       "\n",
       "    .dataframe thead th {\n",
       "        text-align: right;\n",
       "    }\n",
       "</style>\n",
       "<table border=\"1\" class=\"dataframe\">\n",
       "  <thead>\n",
       "    <tr style=\"text-align: right;\">\n",
       "      <th></th>\n",
       "      <th>tweet_id</th>\n",
       "      <th>rating_numerator</th>\n",
       "      <th>rating_denominator</th>\n",
       "      <th>name</th>\n",
       "      <th>rating</th>\n",
       "      <th>breed</th>\n",
       "      <th>conf</th>\n",
       "      <th>outcome</th>\n",
       "      <th>retweet_cnt</th>\n",
       "      <th>favorite_cnt</th>\n",
       "    </tr>\n",
       "  </thead>\n",
       "  <tbody>\n",
       "    <tr>\n",
       "      <th>738</th>\n",
       "      <td>744234799360020481</td>\n",
       "      <td>13</td>\n",
       "      <td>10</td>\n",
       "      <td>no-name</td>\n",
       "      <td>1.3</td>\n",
       "      <td>Labrador_retriever</td>\n",
       "      <td>0.825333</td>\n",
       "      <td>True</td>\n",
       "      <td>70504</td>\n",
       "      <td>144449</td>\n",
       "    </tr>\n",
       "    <tr>\n",
       "      <th>766</th>\n",
       "      <td>739238157791694849</td>\n",
       "      <td>13</td>\n",
       "      <td>10</td>\n",
       "      <td>no-name</td>\n",
       "      <td>1.3</td>\n",
       "      <td>Eskimo_dog</td>\n",
       "      <td>0.503372</td>\n",
       "      <td>True</td>\n",
       "      <td>52755</td>\n",
       "      <td>106949</td>\n",
       "    </tr>\n",
       "    <tr>\n",
       "      <th>383</th>\n",
       "      <td>807106840509214720</td>\n",
       "      <td>13</td>\n",
       "      <td>10</td>\n",
       "      <td>Stephan</td>\n",
       "      <td>1.3</td>\n",
       "      <td>Chihuahua</td>\n",
       "      <td>0.505370</td>\n",
       "      <td>True</td>\n",
       "      <td>51532</td>\n",
       "      <td>111360</td>\n",
       "    </tr>\n",
       "    <tr>\n",
       "      <th>289</th>\n",
       "      <td>822872901745569793</td>\n",
       "      <td>13</td>\n",
       "      <td>10</td>\n",
       "      <td>no-name</td>\n",
       "      <td>1.3</td>\n",
       "      <td>Lakeland_terrier</td>\n",
       "      <td>0.196015</td>\n",
       "      <td>True</td>\n",
       "      <td>39844</td>\n",
       "      <td>123768</td>\n",
       "    </tr>\n",
       "    <tr>\n",
       "      <th>54</th>\n",
       "      <td>879415818425184262</td>\n",
       "      <td>13</td>\n",
       "      <td>10</td>\n",
       "      <td>Duddles</td>\n",
       "      <td>1.3</td>\n",
       "      <td>English_springer</td>\n",
       "      <td>0.383404</td>\n",
       "      <td>True</td>\n",
       "      <td>37305</td>\n",
       "      <td>92622</td>\n",
       "    </tr>\n",
       "  </tbody>\n",
       "</table>\n",
       "</div>"
      ],
      "text/plain": [
       "               tweet_id  rating_numerator  rating_denominator     name  \\\n",
       "738  744234799360020481                13                  10  no-name   \n",
       "766  739238157791694849                13                  10  no-name   \n",
       "383  807106840509214720                13                  10  Stephan   \n",
       "289  822872901745569793                13                  10  no-name   \n",
       "54   879415818425184262                13                  10  Duddles   \n",
       "\n",
       "     rating               breed      conf  outcome  retweet_cnt  favorite_cnt  \n",
       "738     1.3  Labrador_retriever  0.825333     True        70504        144449  \n",
       "766     1.3          Eskimo_dog  0.503372     True        52755        106949  \n",
       "383     1.3           Chihuahua  0.505370     True        51532        111360  \n",
       "289     1.3    Lakeland_terrier  0.196015     True        39844        123768  \n",
       "54      1.3    English_springer  0.383404     True        37305         92622  "
      ]
     },
     "execution_count": 119,
     "metadata": {},
     "output_type": "execute_result"
    }
   ],
   "source": [
    "df = pd.read_csv(MERGED_FILE)\n",
    "df.query('retweet_cnt>35000').sort_values(by='retweet_cnt', ascending=False)"
   ]
  },
  {
   "cell_type": "markdown",
   "id": "fc7a64c7",
   "metadata": {},
   "source": [
    "## Analysis Summary"
   ]
  },
  {
   "cell_type": "markdown",
   "id": "ee9d62ad",
   "metadata": {},
   "source": [
    "> **The top five most tweeted breeds are:** <br> 1) Golden Retriever<br> 2) Labrador Retriever<br> 3) Pembroke<br> 4) Chihuahue <br> 5) Pug"
   ]
  },
  {
   "cell_type": "code",
   "execution_count": 120,
   "id": "2627df0d",
   "metadata": {},
   "outputs": [
    {
     "data": {
      "image/png": "[encoded data removed]",
      "text/plain": [
       "<Figure size 864x360 with 1 Axes>"
      ]
     },
     "metadata": {
      "needs_background": "light"
     },
     "output_type": "display_data"
    }
   ],
   "source": [
    "top_tweeted_breed()"
   ]
  },
  {
   "cell_type": "markdown",
   "id": "5ae22d14",
   "metadata": {},
   "source": [
    "> **The top five most retweeted dogs are:** <br> 1) No-name with 70504 retweets <br> 2) No-name with 52755 retweets<br> 3) Stephan with 51532 retweets<br> 4) No-name with 39844 retweets and<br> 5) Duddles with 37305 retweets"
   ]
  },
  {
   "cell_type": "code",
   "execution_count": 121,
   "id": "7fac76bd",
   "metadata": {},
   "outputs": [
    {
     "data": {
      "image/png": "[encoded data removed]",
      "text/plain": [
       "<Figure size 864x360 with 1 Axes>"
      ]
     },
     "metadata": {
      "needs_background": "light"
     },
     "output_type": "display_data"
    }
   ],
   "source": [
    "top_retweeted_dogs()"
   ]
  },
  {
   "cell_type": "markdown",
   "id": "f3e20584",
   "metadata": {},
   "source": [
    "> **The top five most favorite dogs are:** <br> 1) No-name with 144449 favorites <br> 2) No-name with 123768 favorites<br> 3) Stephan 111360 favorites<br> 4) No-name 108617 favorites<br> 5) Duddles 106949 favorites"
   ]
  },
  {
   "cell_type": "code",
   "execution_count": 122,
   "id": "d644f8ac",
   "metadata": {},
   "outputs": [
    {
     "data": {
      "image/png": "[encoded data removed]",
      "text/plain": [
       "<Figure size 864x360 with 1 Axes>"
      ]
     },
     "metadata": {
      "needs_background": "light"
     },
     "output_type": "display_data"
    }
   ],
   "source": [
    "top_favorite_dogs()"
   ]
  },
  {
   "cell_type": "markdown",
   "id": "770862f4",
   "metadata": {},
   "source": [
    "> **The top five most retweeted dogs or the top five most favorite dogs are not the highest rated dog**"
   ]
  },
  {
   "cell_type": "code",
   "execution_count": 123,
   "id": "10d888e3",
   "metadata": {},
   "outputs": [
    {
     "data": {
      "image/png": "[encoded data removed]",
      "text/plain": [
       "<Figure size 864x360 with 2 Axes>"
      ]
     },
     "metadata": {
      "needs_background": "light"
     },
     "output_type": "display_data"
    }
   ],
   "source": [
    "rating_retweet_favorite()"
   ]
  },
  {
   "cell_type": "markdown",
   "id": "6f579a9a",
   "metadata": {},
   "source": [
    "> **There seemed like a strong linear relationship betweet the retweets count and favorite count, but it's not always the case.**"
   ]
  },
  {
   "cell_type": "code",
   "execution_count": 83,
   "id": "73f4f2d6",
   "metadata": {},
   "outputs": [
    {
     "data": {
      "image/png": "[encoded data removed]",
      "text/plain": [
       "<Figure size 864x360 with 1 Axes>"
      ]
     },
     "metadata": {
      "needs_background": "light"
     },
     "output_type": "display_data"
    }
   ],
   "source": [
    "retweet_vs_favorite()"
   ]
  }
 ],
 "metadata": {
  "kernelspec": {
   "display_name": "Python 3 (ipykernel)",
   "language": "python",
   "name": "python3"
  },
  "language_info": {
   "codemirror_mode": {
    "name": "ipython",
    "version": 3
   },
   "file_extension": ".py",
   "mimetype": "text/x-python",
   "name": "python",
   "nbconvert_exporter": "python",
   "pygments_lexer": "ipython3",
   "version": "3.10.4"
  }
 },
 "nbformat": 4,
 "nbformat_minor": 5
}
